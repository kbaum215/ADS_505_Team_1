{
 "cells": [
  {
   "cell_type": "code",
   "execution_count": 30,
   "id": "389af075",
   "metadata": {},
   "outputs": [],
   "source": [
    "import requests\n",
    "import numpy as np\n",
    "import pandas as pd"
   ]
  },
  {
   "cell_type": "code",
   "execution_count": 31,
   "id": "a48e7bce",
   "metadata": {},
   "outputs": [
    {
     "name": "stdout",
     "output_type": "stream",
     "text": [
      "Los Angeles is available on city bikes with ID: metro-bike-share\n"
     ]
    }
   ],
   "source": [
    "# Fetch the list of all networks from City Bikes API\n",
    "url = \"http://api.citybik.es/v2/networks\"\n",
    "response = requests.get(url)\n",
    "data = response.json()\n",
    "\n",
    "# Check if LA is in the list\n",
    "la_network = None\n",
    "for network in data['networks']:\n",
    "    if \"Los Angeles\" in network['location']['city']:\n",
    "        la_network = network['id']\n",
    "        break\n",
    "\n",
    "if la_network:\n",
    "    print(f\"Los Angeles is available on city bikes with ID: {la_network}\")\n",
    "else:\n",
    "    print(\"Los Angeles is not available\")"
   ]
  },
  {
   "cell_type": "code",
   "execution_count": 32,
   "id": "9d3328ac",
   "metadata": {},
   "outputs": [
    {
     "name": "stdout",
     "output_type": "stream",
     "text": [
      "http://api.citybik.es/v2/networks/metro-bike-share\n"
     ]
    }
   ],
   "source": [
    "# Pull some sample data to test that it works\n",
    "if la_network:\n",
    "    la_url = f\"http://api.citybik.es/v2/networks/{la_network}\"\n",
    "    print(la_url)\n",
    "    la_response = requests.get(la_url)\n",
    "    la_data = la_response.json()\n",
    "    \n",
    "    first_station = la_data['network']['stations'][0]\n",
    "#     print(first_station)"
   ]
  },
  {
   "cell_type": "code",
   "execution_count": 33,
   "id": "766086db",
   "metadata": {},
   "outputs": [],
   "source": [
    "# Fetch data from API endpoint\n",
    "def fetch_data_from_api(endpoint):\n",
    "    response = requests.get(endpoint)\n",
    "    data = response.json()\n",
    "    return data"
   ]
  },
  {
   "cell_type": "code",
   "execution_count": 34,
   "id": "1cdab4ae",
   "metadata": {},
   "outputs": [],
   "source": [
    "# Convert data from list of dictionaries to pandas dataframe\n",
    "def convert_to_dataframe(data_list):\n",
    "    df = pd.json_normalize(data_list)\n",
    "    return df"
   ]
  },
  {
   "cell_type": "code",
   "execution_count": 35,
   "id": "14376f35",
   "metadata": {},
   "outputs": [
    {
     "name": "stdout",
     "output_type": "stream",
     "text": [
      "   empty_slots  free_bikes                                id  latitude  \\\n",
      "0           14           6  b6faafb631c1e75fe42dcf0183d5cdd9  34.03480   \n",
      "1            3          16  6ae1d85179bc7085c9d8855ac003f6fb  34.03919   \n",
      "2           21          10  8ef537aeddba68ac15b0c47ff03b0a2c  34.04989   \n",
      "3           15           2  c14da060d71e97130920dde4509d7323  34.05772   \n",
      "4           10           4  3eaeb9f13ce28cf2e56d21e7dd2b3b5c  34.03286   \n",
      "\n",
      "   longitude                  name                    timestamp  \\\n",
      "0 -118.23128        Imperial & 7th  2023-09-19T02:10:00.619000Z   \n",
      "1 -118.23253  Willow St & Mateo St  2023-09-19T02:10:00.625000Z   \n",
      "2 -118.25588            Hope & 6th  2023-09-19T02:10:00.628000Z   \n",
      "3 -118.24897            Hope & 1st  2023-09-19T02:10:00.640000Z   \n",
      "4 -118.26808    Grand & Washington  2023-09-19T02:10:00.641000Z   \n",
      "\n",
      "        extra.address  extra.last_updated  \\\n",
      "0   699 S Imperial St          1695089400   \n",
      "1  1301 Willow Street          1695089400   \n",
      "2   557 S Hope Street          1695089400   \n",
      "3       111 N Hope St          1695089400   \n",
      "4    1014 S Grand Ave          1695089400   \n",
      "\n",
      "                           extra.rental_uris.android  \\\n",
      "0  https://www.bcycle.com/applink?system_id=bcycl...   \n",
      "1  https://www.bcycle.com/applink?system_id=bcycl...   \n",
      "2  https://www.bcycle.com/applink?system_id=bcycl...   \n",
      "3  https://www.bcycle.com/applink?system_id=bcycl...   \n",
      "4  https://www.bcycle.com/applink?system_id=bcycl...   \n",
      "\n",
      "                               extra.rental_uris.ios  extra.renting  \\\n",
      "0  https://www.bcycle.com/applink?system_id=bcycl...              1   \n",
      "1  https://www.bcycle.com/applink?system_id=bcycl...              1   \n",
      "2  https://www.bcycle.com/applink?system_id=bcycl...              1   \n",
      "3  https://www.bcycle.com/applink?system_id=bcycl...              1   \n",
      "4  https://www.bcycle.com/applink?system_id=bcycl...              1   \n",
      "\n",
      "   extra.returning            extra.uid  \n",
      "0                1  bcycle_lametro_3037  \n",
      "1                1  bcycle_lametro_3036  \n",
      "2                1  bcycle_lametro_3032  \n",
      "3                1  bcycle_lametro_3024  \n",
      "4                1  bcycle_lametro_3025  \n"
     ]
    }
   ],
   "source": [
    "# Use the functions\n",
    "endpoint = la_url\n",
    "data = fetch_data_from_api(endpoint)\n",
    "stations_data = data['network']['stations']\n",
    "\n",
    "df = convert_to_dataframe(stations_data)\n",
    "print(df.head())"
   ]
  }
 ],
 "metadata": {
  "kernelspec": {
   "display_name": "Python 3 (ipykernel)",
   "language": "python",
   "name": "python3"
  },
  "language_info": {
   "codemirror_mode": {
    "name": "ipython",
    "version": 3
   },
   "file_extension": ".py",
   "mimetype": "text/x-python",
   "name": "python",
   "nbconvert_exporter": "python",
   "pygments_lexer": "ipython3",
   "version": "3.8.17"
  }
 },
 "nbformat": 4,
 "nbformat_minor": 5
}
